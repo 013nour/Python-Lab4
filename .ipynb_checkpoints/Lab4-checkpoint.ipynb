{
 "cells": [
  {
   "cell_type": "markdown",
   "id": "fd972df2-cdaf-42a6-aa08-bc552953e875",
   "metadata": {},
   "source": [
    "Try and Except\n",
    "Write a program that do the following :-\n",
    "\n",
    "Ask the user to enter his name.\n",
    "Ask the user to enter his age.\n",
    "If his age is between 0 and 6, then print \"Kid\"\n",
    "Else if his age is under 0, then print \"Wrong age value, you can not enter value 0 or less.\"\n",
    "Else if the age is greater than 6, do the following :-\n",
    "An empty variable called total_cost with initial value 0.\n",
    "Ask him to enter the number of items that he wants to buy.\n",
    "for each item, do the following :-\n",
    "Ask him to enter the item name.\n",
    "Ask him to enter the item price.\n",
    "Ask him to enter the item quantity.\n",
    "You need to calculate the item total cost by multiplying the quantity by the price and name it as item_cost.\n",
    "Then, you need to update the total_cost variable by adding the value of item_cost.\n",
    "Print the item_cost and the total_cost.\n",
    "Now, if the total_cost is greater than 200, make a discount by 20% for this special customer!!\n",
    "Do not forget to handle any unexpected inputs from the users (Just cast the input values and catch the errors!!).\n",
    "Finally, ask the user if he want to repeat the same process from step 1 until 6 or not, Use the loops, but one of them ;)\n",
    "Note : The ask is after catching the errors."
   ]
  },
  {
   "cell_type": "code",
   "execution_count": null,
   "id": "b7f39da9-ceb4-4231-8867-d23acb7c46a5",
   "metadata": {
    "tags": []
   },
   "outputs": [
    {
     "name": "stdin",
     "output_type": "stream",
     "text": [
      "Enter your name :  1\n",
      "Enter your age :  3\n"
     ]
    },
    {
     "name": "stdout",
     "output_type": "stream",
     "text": [
      "kid\n"
     ]
    },
    {
     "name": "stdin",
     "output_type": "stream",
     "text": [
      "Do you want to repeat the same process y/n :  y\n",
      "Enter your name :  d\n",
      "Enter your age :  -1\n"
     ]
    },
    {
     "name": "stdout",
     "output_type": "stream",
     "text": [
      "Wrong age value, you can not enter value 0 or less.\n"
     ]
    },
    {
     "name": "stdin",
     "output_type": "stream",
     "text": [
      "Do you want to repeat the same process y/n :  y\n",
      "Enter your name :  -\n",
      "Enter your age :  =s\n"
     ]
    },
    {
     "name": "stdout",
     "output_type": "stream",
     "text": [
      "invalid literal for int() with base 10: '=s'\n",
      "Wrong age value, you can not enter value 0 or less.\n"
     ]
    }
   ],
   "source": [
    "Repeat = 'y'\n",
    "    \n",
    "try: \n",
    "    \n",
    "    while (Repeat == 'y'):\n",
    "    \n",
    "        try:\n",
    "            username = input(\"Enter your name : \")\n",
    "            age = int(input(\"Enter your age : \"))\n",
    "        except Exception as e:\n",
    "            print(e)y\n",
    "\n",
    "        totCost=0\n",
    "\n",
    "        if age >=0 and age <=6: \n",
    "            print(\"kid\")\n",
    "        elif age < 0 : \n",
    "            print (\"Wrong age value, you can not enter value 0 or less.\")\n",
    "    \n",
    "        elif age > 6 :\n",
    "            total_cost = 0\n",
    "            itmNum = int(input(\"Enter the number of items you wants to buy : \"))\n",
    "    \n",
    "\n",
    "    \n",
    "            for i in range(itmNum):\n",
    "                try:\n",
    "                    itmName = input(\"Enter item name : \")\n",
    "        \n",
    "                    itmPrice = int(input(\"Enter item price : \"))\n",
    "                    itQuant = int(input(\"Enter item quantity : \"))\n",
    "                except Exception as e:\n",
    "                    print(e)\n",
    "        \n",
    "                item_cost = itmPrice*itQuant\n",
    "        \n",
    "                totCost += item_cost\n",
    "        \n",
    "                print (\"item cost {}\".format(item_cost))\n",
    "                print (\"total cost {}\".format(totCost))\n",
    "        \n",
    "            if totCost > 200 : \n",
    "                dis = totCost - (20/100*totCost)\n",
    "                print (\"price after discount {}\".format(dis))\n",
    "    \n",
    "        try:\n",
    "            Repeat = input(\"Do you want to repeat the same process y/n : \")\n",
    "        except :\n",
    "            print(\"you must enter y or n only\")\n",
    "            \n",
    "except :\n",
    "            print(\"one of your input was not correct\") "
   ]
  }
 ],
 "metadata": {
  "kernelspec": {
   "display_name": "Python 3 (ipykernel)",
   "language": "python",
   "name": "python3"
  },
  "language_info": {
   "codemirror_mode": {
    "name": "ipython",
    "version": 3
   },
   "file_extension": ".py",
   "mimetype": "text/x-python",
   "name": "python",
   "nbconvert_exporter": "python",
   "pygments_lexer": "ipython3",
   "version": "3.11.5"
  }
 },
 "nbformat": 4,
 "nbformat_minor": 5
}
